{
 "cells": [
  {
   "cell_type": "markdown",
   "metadata": {},
   "source": [
    "In this task, we would like for you to appreciate the usefulness of the groupby() function of itertools . To read more about this function, Check this out .\n",
    "\n",
    "You are given a string . Suppose a character '' occurs consecutively  times in the string. Replace these consecutive occurrences of the character '' with  in the string.\n",
    "\n",
    "For a better understanding of the problem, check the explanation.\n",
    "\n",
    "### Input Format\n",
    "\n",
    "- A single line of input consisting of the string .\n",
    "\n",
    "### Output Format\n",
    "\n",
    "- A single line of output consisting of the modified string.\n",
    "\n",
    "### Constraints\n",
    "\n",
    "- All the characters of  denote integers between  and .\n",
    "\n",
    "\n",
    "### Sample Input\n",
    "\n",
    "    1222311\n",
    "    \n",
    "### Sample Output\n",
    "\n",
    "    (1, 1) (3, 2) (1, 3) (2, 1)\n",
    "    \n",
    "### Explanation\n",
    "\n",
    "First, the character 1 occurs only once. It is replaced by (1, 1). Then the character 2 occurs three times, and it is replaced by (3, 2) and so on.\n",
    "\n",
    "Also, note the single space within each compression and between the compressions."
   ]
  },
  {
   "cell_type": "code",
   "execution_count": 92,
   "metadata": {},
   "outputs": [],
   "source": [
    "def solution(number):\n",
    "    key = []\n",
    "    value = []\n",
    "    temp = None\n",
    "    count = 1\n",
    "\n",
    "    for i in number:\n",
    "        if temp == None:\n",
    "            temp = i\n",
    "            key.append(i)\n",
    "            value.append(count)\n",
    "        else:\n",
    "            if temp == i:\n",
    "                value[-1] += 1\n",
    "            else:\n",
    "                temp = i\n",
    "                key.append(i)\n",
    "                value.append(count)\n",
    "                count = 1\n",
    "    key = list(map(int, key))\n",
    "\n",
    "    print(value)\n",
    "    print(key)\n",
    "    \n",
    "    tu = list(zip(value, key))\n",
    "    \n",
    "    for i in tu:\n",
    "        print(i, end=' ')\n"
   ]
  },
  {
   "cell_type": "code",
   "execution_count": 93,
   "metadata": {},
   "outputs": [
    {
     "name": "stdout",
     "output_type": "stream",
     "text": [
      "[1, 3, 1, 2]\n",
      "[1, 2, 3, 1]\n",
      "(1, 1)(3, 2)(1, 3)(2, 1)"
     ]
    }
   ],
   "source": [
    "solution('1222311')"
   ]
  },
  {
   "cell_type": "code",
   "execution_count": null,
   "metadata": {},
   "outputs": [],
   "source": []
  }
 ],
 "metadata": {
  "kernelspec": {
   "display_name": "Python 3",
   "language": "python",
   "name": "python3"
  },
  "language_info": {
   "codemirror_mode": {
    "name": "ipython",
    "version": 3
   },
   "file_extension": ".py",
   "mimetype": "text/x-python",
   "name": "python",
   "nbconvert_exporter": "python",
   "pygments_lexer": "ipython3",
   "version": "3.8.5"
  }
 },
 "nbformat": 4,
 "nbformat_minor": 4
}
