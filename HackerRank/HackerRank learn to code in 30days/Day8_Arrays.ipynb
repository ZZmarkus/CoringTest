{
 "cells": [
  {
   "cell_type": "markdown",
   "id": "50a73140",
   "metadata": {},
   "source": [
    "### Objective\n",
    "Today, we will learn about the Array data structure. Check out the Tutorial tab for learning materials and an instructional video.\n",
    "\n",
    "### Task\n",
    "Given an array, A, of N integers, print A's elements in reverse order as a single line of space-separated numbers.\n",
    "\n",
    "### Example\n",
    "A = [1,2,3,4]\n",
    "\n",
    "Print 4 3 2 1. Each integer is separated by one space.\n",
    "\n",
    "### Input Format\n",
    "\n",
    "The first line contains an integer,  N(the size of our array).\n",
    "The second line contains N space-separated integers that describe array A's elements.\n",
    "\n",
    "\n",
    "### Constraints\n",
    "- 1 <= N <= 1000\n",
    "- 1 <= A[i] <= 10000, where A[i] is the i^t integer in the array.\n",
    "\n",
    "### Output Format\n",
    "Print the elements of array  in reverse order as a single line of space-separated numbers.\n",
    "\n",
    "### Sample Input\n",
    "4\n",
    "1 4 3 2\n",
    "\n",
    "### Sample Output\n",
    "2 3 4 1"
   ]
  },
  {
   "cell_type": "code",
   "execution_count": 11,
   "id": "32a22575",
   "metadata": {},
   "outputs": [
    {
     "name": "stdout",
     "output_type": "stream",
     "text": [
      "4\n",
      "1 3 2 4\n",
      "4 2 3 1 \n"
     ]
    }
   ],
   "source": [
    "#!/bin/python3\n",
    "\n",
    "import math\n",
    "import os\n",
    "import random\n",
    "import re\n",
    "import sys\n",
    "\n",
    "\n",
    "\n",
    "if __name__ == '__main__':\n",
    "    n = int(input().strip())\n",
    "\n",
    "    arr = list(map(str, input().rstrip().split()))\n",
    "    s = ''\n",
    "    arr = list(reversed(arr))\n",
    "    for i in range(len(arr)):\n",
    "        s += arr[i] + \" \"\n",
    "    print(s)\n",
    "    "
   ]
  },
  {
   "cell_type": "code",
   "execution_count": null,
   "id": "d3da4819",
   "metadata": {},
   "outputs": [],
   "source": []
  }
 ],
 "metadata": {
  "kernelspec": {
   "display_name": "Python 3",
   "language": "python",
   "name": "python3"
  },
  "language_info": {
   "codemirror_mode": {
    "name": "ipython",
    "version": 3
   },
   "file_extension": ".py",
   "mimetype": "text/x-python",
   "name": "python",
   "nbconvert_exporter": "python",
   "pygments_lexer": "ipython3",
   "version": "3.8.5"
  }
 },
 "nbformat": 4,
 "nbformat_minor": 5
}
