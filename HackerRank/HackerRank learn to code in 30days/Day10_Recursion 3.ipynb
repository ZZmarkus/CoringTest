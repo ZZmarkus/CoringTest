{
 "cells": [
  {
   "cell_type": "markdown",
   "id": "6a301d26",
   "metadata": {},
   "source": [
    "### Objective\n",
    "Today, we are learning about an algorithmic concept called recursion. Check out the Tutorial tab for learning materials and an instructional video.\n",
    "\n",
    "### Function Description\n",
    "Complete the factorial function in the editor below. Be sure to use recursion.\n",
    "\n",
    "### factorial has the following paramter:\n",
    "- int n: an integer\n",
    "\n",
    "### Returns\n",
    "- int: the factorial of n\n",
    "\n",
    "### Note: If you fail to use recursion or fail to name your recursive function factorial or Factorial, you will get a score of  0.\n",
    "\n",
    "### Input Format\n",
    "\n",
    "A single integer, n (the argument to pass to factorial).\n",
    "\n",
    "### Constraints\n",
    "- 2 <= n <= 12\n",
    "- Your submission must contain a recursive function named factorial.\n",
    "\n",
    "### Sample Input\n",
    "3\n",
    "\n",
    "### Sample Output\n",
    "6"
   ]
  },
  {
   "cell_type": "code",
   "execution_count": 1,
   "id": "29a9984b",
   "metadata": {},
   "outputs": [
    {
     "name": "stdout",
     "output_type": "stream",
     "text": [
      "3\n",
      "6\n"
     ]
    }
   ],
   "source": [
    "#!/bin/python3\n",
    "\n",
    "import math\n",
    "import os\n",
    "import random\n",
    "import re\n",
    "import sys\n",
    "\n",
    "#\n",
    "# Complete the 'factorial' function below.\n",
    "#\n",
    "# The function is expected to return an INTEGER.\n",
    "# The function accepts INTEGER n as parameter.\n",
    "#\n",
    "\n",
    "def factorial(n):\n",
    "    if n==1:\n",
    "        return 1\n",
    "    return n * factorial(n-1)\n",
    "    # Write your code here\n",
    "\n",
    "if __name__ == '__main__':\n",
    "    n = int(input().strip())\n",
    "\n",
    "    result = factorial(n)\n",
    "    print(result)\n"
   ]
  },
  {
   "cell_type": "code",
   "execution_count": null,
   "id": "bf3bef63",
   "metadata": {},
   "outputs": [],
   "source": []
  }
 ],
 "metadata": {
  "kernelspec": {
   "display_name": "Python 3",
   "language": "python",
   "name": "python3"
  },
  "language_info": {
   "codemirror_mode": {
    "name": "ipython",
    "version": 3
   },
   "file_extension": ".py",
   "mimetype": "text/x-python",
   "name": "python",
   "nbconvert_exporter": "python",
   "pygments_lexer": "ipython3",
   "version": "3.8.5"
  }
 },
 "nbformat": 4,
 "nbformat_minor": 5
}
