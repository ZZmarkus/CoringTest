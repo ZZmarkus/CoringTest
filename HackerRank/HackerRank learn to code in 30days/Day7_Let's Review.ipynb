{
 "cells": [
  {
   "cell_type": "markdown",
   "id": "e4767d45",
   "metadata": {},
   "source": [
    "### Objective\n",
    "Today we will expand our knowledge of strings, combining it with what we have already learned about loops. Check out the Tutorial tab for learning materials and an instructional video.\n",
    "\n",
    "### Task\n",
    "Given a string, S, of length N that is indexed from 0 to N - 1, print its even-indexed and odd-indexed characters as 2 space-separated strings on a single line (see the Sample below for more detail).\n",
    "\n",
    "#### Note: 0 is considered to be an even index.\n",
    "\n",
    "### Example\n",
    "s = abcdef\n",
    "Print abc def\n",
    "\n",
    "### Input Format\n",
    "\n",
    "The first line contains an integer,  T(the number of test cases).\n",
    "Each line  of the T subsequent lines contain a string, S.\n",
    "\n",
    "### Constraints\n",
    "1 <= T <= 10\n",
    "2 <= length of S <= 10000\n",
    "\n",
    "### Output Format\n",
    "\n",
    "For each String  Sj(where 0 <= j <= T-1), print Sj's even-indexed characters, followed by a space, followed by Sj's odd-indexed characters.\n",
    "\n",
    "### Sample Input\n",
    "2\n",
    "Hacker\n",
    "Rank\n",
    "\n",
    "### Sample Output\n",
    "Hce akr\n",
    "Rn ak"
   ]
  },
  {
   "cell_type": "code",
   "execution_count": 1,
   "id": "023827a8",
   "metadata": {},
   "outputs": [
    {
     "name": "stdout",
     "output_type": "stream",
     "text": [
      "4\n",
      "Hello\n",
      "Hlo el\n",
      "Hacker\n",
      "Hce akr\n",
      "Rank\n",
      "Rn ak\n",
      "google\n",
      "gol oge\n"
     ]
    }
   ],
   "source": [
    "# Enter your code here. Read input from STDIN. Print output to STDOUT\n",
    "\n",
    "def solution(s):\n",
    "    count = 0\n",
    "    even = ''\n",
    "    odd = ''\n",
    "    \n",
    "    for i in s:\n",
    "        if count % 2 == 0:\n",
    "            even += i\n",
    "            count += 1\n",
    "        else:\n",
    "            odd += i\n",
    "            count += 1\n",
    "    \n",
    "    print(even, odd)\n",
    "\n",
    "num = int(input())\n",
    "\n",
    "for i in range(num):\n",
    "    solution(input())"
   ]
  },
  {
   "cell_type": "code",
   "execution_count": null,
   "id": "781470f9",
   "metadata": {},
   "outputs": [],
   "source": []
  }
 ],
 "metadata": {
  "kernelspec": {
   "display_name": "Python 3",
   "language": "python",
   "name": "python3"
  },
  "language_info": {
   "codemirror_mode": {
    "name": "ipython",
    "version": 3
   },
   "file_extension": ".py",
   "mimetype": "text/x-python",
   "name": "python",
   "nbconvert_exporter": "python",
   "pygments_lexer": "ipython3",
   "version": "3.8.5"
  }
 },
 "nbformat": 4,
 "nbformat_minor": 5
}
