{
 "cells": [
  {
   "cell_type": "markdown",
   "id": "73f303ed",
   "metadata": {},
   "source": [
    "### Objective\n",
    "Today we're discussing scope. Check out the Tutorial tab for learning materials and an instructional video!\n",
    "\n",
    "The absolute difference between two integers, a and b, is written as |a - b|. The maximum absolute difference between two integers in a set of positive integers, elements, is the largest absolute difference between any two integers in __elements.\n",
    "\n",
    "The Difference class is started for you in the editor. It has a private integer array (elements) for storing N non-negative integers, and a public integer (maximumDifference) for storing the maximum absolute difference.\n",
    "\n",
    "### Task\n",
    "Complete the Difference class by writing the following:\n",
    "- A class constructor that takes an array of integers as a parameter and saves it to the __elements instance variable.\n",
    "- A computeDifference method that finds the maximum absolute difference between any 2 numbers in __elements  and stores it in the maximumDifference instance variable.\n",
    "\n",
    "### Input Format\n",
    "You are not responsible for reading any input from stdin. The locked Solution class in the editor reads in 2 lines of input. The first line contains N, the size of the elements array. The second line has N space-separated integers that describe the __elements array.\n",
    "\n",
    "### Constraints\n",
    "- 1 <= N <= 10\n",
    "- 1 <= __elements[i] <= 100, where 0 <= i <= N-1\n",
    "\n",
    "### Output Format\n",
    "You are not responsible for printing any output; the Solution class will print the value of the maximumDifference instance variable.\n",
    "\n",
    "### Sample Input\n",
    "STDIN   Function\n",
    "-----   --------\n",
    "3       __elements[] size N = 3\n",
    "1 2 5   __elements = [1, 2, 5]\n",
    "\n",
    "### Sample Output\n",
    "4"
   ]
  },
  {
   "cell_type": "code",
   "execution_count": null,
   "id": "9a058fa0",
   "metadata": {},
   "outputs": [],
   "source": [
    "class Difference:\n",
    "    def __init__(self, a):\n",
    "        self.__elements = a\n",
    "\n",
    "    # Add your code here\n",
    "    def computeDifference():\n",
    "        \n",
    "\n",
    "# End of Difference class\n",
    "\n",
    "_ = input()\n",
    "a = [int(e) for e in input().split(' ')]\n",
    "\n",
    "d = Difference(a)\n",
    "d.computeDifference()\n",
    "\n",
    "print(d.maximumDifference)"
   ]
  }
 ],
 "metadata": {
  "kernelspec": {
   "display_name": "Python 3",
   "language": "python",
   "name": "python3"
  },
  "language_info": {
   "codemirror_mode": {
    "name": "ipython",
    "version": 3
   },
   "file_extension": ".py",
   "mimetype": "text/x-python",
   "name": "python",
   "nbconvert_exporter": "python",
   "pygments_lexer": "ipython3",
   "version": "3.8.5"
  }
 },
 "nbformat": 4,
 "nbformat_minor": 5
}
