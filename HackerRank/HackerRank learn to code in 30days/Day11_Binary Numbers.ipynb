{
 "cells": [
  {
   "cell_type": "markdown",
   "id": "20923d2d",
   "metadata": {},
   "source": [
    "### Objective\n",
    "Today, we're working with binary numbers. Check out the Tutorial tab for learning materials and an instructional video!\n",
    "\n",
    "### Task\n",
    "Given a base-10 integer, n, convert it to binary (base-2). Then find and print the base-10 integer denoting the maximum number of consecutive 1's in n's binary representation. When working with different bases, it is common to show the base as a subscript.\n",
    "\n",
    "### Example\n",
    "n = 125\n",
    "\n",
    "The binary representation of 125(10) is 1111101(2). In base 10, there are 5 and 1 consecutive ones in two groups. Print the maximum, 5.\n",
    "\n",
    "### Input Format\n",
    "\n",
    "A single integer, n.\n",
    "\n",
    "### Constraints\n",
    "- 1 <= n <= 10^6\n",
    "\n",
    "### Output Format\n",
    "Print a single base-10 integer that denotes the maximum number of consecutive 1's in the binary representation of .\n",
    "\n",
    "### Sample Input 1\n",
    "5\n",
    "\n",
    "### Sample Output 1\n",
    "1\n",
    "\n",
    "### Sample Input 2\n",
    "13\n",
    "\n",
    "### Sample Output 2\n",
    "2"
   ]
  },
  {
   "cell_type": "code",
   "execution_count": 1,
   "id": "a0f0c4c5",
   "metadata": {},
   "outputs": [
    {
     "name": "stdout",
     "output_type": "stream",
     "text": [
      "15\n",
      "4\n"
     ]
    }
   ],
   "source": [
    "#!/bin/python3\n",
    "\n",
    "import math\n",
    "import os\n",
    "import random\n",
    "import re\n",
    "import sys\n",
    "from itertools import groupby\n",
    "\n",
    "\n",
    "if __name__ == '__main__':\n",
    "    n = int(input().strip())\n",
    "    binary = str(format(n, 'b'))\n",
    "\n",
    "    print(max([len(list(g)) for k, g in groupby(binary)]))\n",
    "    \n",
    "    \n",
    "    "
   ]
  },
  {
   "cell_type": "code",
   "execution_count": null,
   "id": "3bd265cd",
   "metadata": {},
   "outputs": [],
   "source": []
  }
 ],
 "metadata": {
  "kernelspec": {
   "display_name": "Python 3",
   "language": "python",
   "name": "python3"
  },
  "language_info": {
   "codemirror_mode": {
    "name": "ipython",
    "version": 3
   },
   "file_extension": ".py",
   "mimetype": "text/x-python",
   "name": "python",
   "nbconvert_exporter": "python",
   "pygments_lexer": "ipython3",
   "version": "3.8.5"
  }
 },
 "nbformat": 4,
 "nbformat_minor": 5
}
