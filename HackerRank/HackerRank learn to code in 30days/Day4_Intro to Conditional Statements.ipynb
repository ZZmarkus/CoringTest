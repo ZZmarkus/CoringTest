{
 "cells": [
  {
   "cell_type": "markdown",
   "id": "418a061d",
   "metadata": {},
   "source": [
    "### Objective\n",
    "In this challenge, we learn about conditional statements. Check out the Tutorial tab for learning materials and an instructional video.\n",
    "\n",
    "### Task\n",
    "Given an integer, n, perform the following conditional actions:\n",
    "- If n is odd, print Weird\n",
    "- If n is even and in the inclusive range of 2 to 5, print Not Weird\n",
    "- If n is even and in the inclusive range of  6to 20, print Weird\n",
    "- If n is even and greater than 20, print Not Weird\n",
    "- Complete the stub code provided in your editor to print whether or not n is weird.\n",
    "\n",
    "### Input Format\n",
    "\n",
    "A single line containing a positive integer, .\n",
    "\n",
    "### Constraints\n",
    "- 1 <= n <= 100\n",
    "\n",
    "### Output Format\n",
    "\n",
    "Print Weird if the number is weird; otherwise, print Not Weird.\n",
    "\n",
    "### Sample Input 0\n",
    "\n",
    "3\n",
    "### Sample Output 0\n",
    "\n",
    "Weird\n",
    "### Sample Input 1\n",
    "\n",
    "24\n",
    "### Sample Output 1\n",
    "\n",
    "Not Weird"
   ]
  },
  {
   "cell_type": "code",
   "execution_count": 2,
   "id": "72d3ca52",
   "metadata": {},
   "outputs": [
    {
     "name": "stdout",
     "output_type": "stream",
     "text": [
      "18\n",
      "Weird\n"
     ]
    }
   ],
   "source": [
    "#!/bin/python3\n",
    "\n",
    "import math\n",
    "import os\n",
    "import random\n",
    "import re\n",
    "import sys\n",
    "\n",
    "\n",
    "\n",
    "if __name__ == '__main__':\n",
    "    N = int(input().strip())\n",
    "    \n",
    "    if N % 2 == 1:\n",
    "        print('Weird') \n",
    "    else:\n",
    "        if 2 <= N and N <= 5:\n",
    "            print('Not Weird') \n",
    "        elif 6 <= N and N <= 20:\n",
    "            print('Weird') \n",
    "        else:\n",
    "            print('Not Weird') \n"
   ]
  },
  {
   "cell_type": "code",
   "execution_count": null,
   "id": "e6819ab3",
   "metadata": {},
   "outputs": [],
   "source": []
  }
 ],
 "metadata": {
  "kernelspec": {
   "display_name": "Python 3",
   "language": "python",
   "name": "python3"
  },
  "language_info": {
   "codemirror_mode": {
    "name": "ipython",
    "version": 3
   },
   "file_extension": ".py",
   "mimetype": "text/x-python",
   "name": "python",
   "nbconvert_exporter": "python",
   "pygments_lexer": "ipython3",
   "version": "3.8.5"
  }
 },
 "nbformat": 4,
 "nbformat_minor": 5
}
