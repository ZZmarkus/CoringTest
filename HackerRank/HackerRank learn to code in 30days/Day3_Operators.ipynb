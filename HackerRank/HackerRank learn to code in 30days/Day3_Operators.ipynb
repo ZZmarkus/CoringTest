{
 "cells": [
  {
   "cell_type": "markdown",
   "metadata": {},
   "source": [
    "### Objective\n",
    "In this challenge, you will work with arithmetic operators. Check out the Tutorial tab for learning materials and an instructional video.\n",
    "\n",
    "### Task\n",
    "Given the meal price (base cost of a meal), tip percent (the percentage of the meal price being added as tip), and tax percent (the percentage of the meal price being added as tax) for a meal, find and print the meal's total cost. Round the result to the nearest integer.\n",
    "\n",
    "### Function Description\n",
    "Complete the solve function in the editor below.\n",
    "\n",
    "solve has the following parameters:\n",
    "\n",
    "- int meal_cost: the cost of food before tip and tax\n",
    "- int tip_percent: the tip percentage\n",
    "- int tax_percent: the tax percentage\n",
    "Returns The function returns nothing. Print the calculated value, rounded to the nearest integer.\n",
    "\n",
    "#### Note: Be sure to use precise values for your calculations, or you may end up with an incorrectly rounded result.\n",
    "\n",
    "### Input Format\n",
    "There are  lines of numeric input:\n",
    "The first line has a double,  (the cost of the meal before tax and tip).\n",
    "The second line has an integer,  (the percentage of  being added as tip).\n",
    "The third line has an integer,  (the percentage of  being added as tax).\n",
    "\n",
    "### Sample Input\n",
    "    12.00\n",
    "    20\n",
    "    8\n",
    "    \n",
    "### Sample Output\n",
    "    15"
   ]
  },
  {
   "cell_type": "code",
   "execution_count": 4,
   "metadata": {},
   "outputs": [
    {
     "name": "stdout",
     "output_type": "stream",
     "text": [
      "12.00\n",
      "20\n",
      "8\n",
      "15\n"
     ]
    }
   ],
   "source": [
    "def solve(meal_cost, tip_percent, tax_percent):\n",
    "    print (round(meal_cost + meal_cost * tip_percent/100 + meal_cost * tax_percent/100))\n",
    "    # Write your code here\n",
    "\n",
    "if __name__ == '__main__':\n",
    "    meal_cost = float(input().strip())\n",
    "\n",
    "    tip_percent = int(input().strip())\n",
    "\n",
    "    tax_percent = int(input().strip())\n",
    "\n",
    "    solve(meal_cost, tip_percent, tax_percent)"
   ]
  },
  {
   "cell_type": "code",
   "execution_count": null,
   "metadata": {},
   "outputs": [],
   "source": []
  }
 ],
 "metadata": {
  "kernelspec": {
   "display_name": "Python 3",
   "language": "python",
   "name": "python3"
  },
  "language_info": {
   "codemirror_mode": {
    "name": "ipython",
    "version": 3
   },
   "file_extension": ".py",
   "mimetype": "text/x-python",
   "name": "python",
   "nbconvert_exporter": "python",
   "pygments_lexer": "ipython3",
   "version": "3.8.5"
  }
 },
 "nbformat": 4,
 "nbformat_minor": 4
}
