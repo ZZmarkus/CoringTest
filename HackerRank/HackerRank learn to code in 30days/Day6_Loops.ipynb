{
 "cells": [
  {
   "cell_type": "markdown",
   "id": "37eafb53",
   "metadata": {},
   "source": [
    "### Objective\n",
    "In this challenge, we will use loops to do some math. Check out the Tutorial tab to learn more.\n",
    "\n",
    "### Task\n",
    "Given an integer, n, print its first 10 multiples. Each multiple n x i (where 1<=i<=10) should be printed on a new line in the form: n x i = result.\n",
    "\n",
    "### Example\n",
    "n = 3\n",
    "\n",
    "The printout should look like this:\n",
    "```\n",
    "    3 x 1 = 3\n",
    "    3 x 2 = 6\n",
    "    3 x 3 = 9\n",
    "    3 x 4 = 12\n",
    "    3 x 5 = 15\n",
    "    3 x 6 = 18\n",
    "    3 x 7 = 21\n",
    "    3 x 8 = 24\n",
    "    3 x 9 = 27\n",
    "    3 x 10 = 30\n",
    "```\n",
    "    \n",
    "### Input Format\n",
    "A single integer, n.\n",
    "\n",
    "### Constraints\n",
    "- 2<=n<=20\n",
    "\n",
    "### Output Format\n",
    "Print 10 lines of output; each line i(where 1<=i<=10) contains the result of nxi in the form:\n",
    "n x i = result.\n",
    "\n",
    "### Sample Input\n",
    "    2\n",
    "\n",
    "### Sample Output\n",
    "    2 x 1 = 2\n",
    "    2 x 2 = 4\n",
    "    2 x 3 = 6\n",
    "    2 x 4 = 8\n",
    "    2 x 5 = 10\n",
    "    2 x 6 = 12\n",
    "    2 x 7 = 14\n",
    "    2 x 8 = 16\n",
    "    2 x 9 = 18\n",
    "    2 x 10 = 20"
   ]
  },
  {
   "cell_type": "code",
   "execution_count": 1,
   "id": "938d1c84",
   "metadata": {},
   "outputs": [
    {
     "name": "stdout",
     "output_type": "stream",
     "text": [
      "8\n",
      "8 x 1 = 8\n",
      "8 x 2 = 16\n",
      "8 x 3 = 24\n",
      "8 x 4 = 32\n",
      "8 x 5 = 40\n",
      "8 x 6 = 48\n",
      "8 x 7 = 56\n",
      "8 x 8 = 64\n",
      "8 x 9 = 72\n",
      "8 x 10 = 80\n"
     ]
    }
   ],
   "source": [
    "#!/bin/python3\n",
    "\n",
    "import math\n",
    "import os\n",
    "import random\n",
    "import re\n",
    "import sys\n",
    "\n",
    "\n",
    "\n",
    "if __name__ == '__main__':\n",
    "    n = int(input().strip())\n",
    "    for i in range(1, 11):\n",
    "        print(n, 'x', i, '=', n*i)\n",
    "        "
   ]
  },
  {
   "cell_type": "code",
   "execution_count": null,
   "id": "89208af9",
   "metadata": {},
   "outputs": [],
   "source": []
  }
 ],
 "metadata": {
  "kernelspec": {
   "display_name": "Python 3",
   "language": "python",
   "name": "python3"
  },
  "language_info": {
   "codemirror_mode": {
    "name": "ipython",
    "version": 3
   },
   "file_extension": ".py",
   "mimetype": "text/x-python",
   "name": "python",
   "nbconvert_exporter": "python",
   "pygments_lexer": "ipython3",
   "version": "3.8.5"
  }
 },
 "nbformat": 4,
 "nbformat_minor": 5
}
