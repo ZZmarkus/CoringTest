{
 "cells": [
  {
   "cell_type": "markdown",
   "id": "e934416d",
   "metadata": {},
   "source": []
  },
  {
   "cell_type": "code",
   "execution_count": null,
   "id": "50be5672",
   "metadata": {},
   "outputs": [],
   "source": [
    "# Enter your code here. Read input from STDIN. Print output to STDOUT\n",
    "\n",
    "hash = {}\n",
    "n = int(input())\n",
    "for i in range(n):\n",
    "    str = list(input().rstrip().split())\n",
    "    hash[str[0]] = str[1]\n",
    "\n",
    "for i in range(n):\n",
    "    name = input()\n",
    "    if name in hash:\n",
    "        s = name + \"=\" + hash[name]\n",
    "        print(s)\n",
    "    else:\n",
    "        print('Not found')"
   ]
  },
  {
   "cell_type": "code",
   "execution_count": null,
   "id": "d186e4a9",
   "metadata": {},
   "outputs": [],
   "source": []
  }
 ],
 "metadata": {
  "kernelspec": {
   "display_name": "Python 3",
   "language": "python",
   "name": "python3"
  },
  "language_info": {
   "codemirror_mode": {
    "name": "ipython",
    "version": 3
   },
   "file_extension": ".py",
   "mimetype": "text/x-python",
   "name": "python",
   "nbconvert_exporter": "python",
   "pygments_lexer": "ipython3",
   "version": "3.8.5"
  }
 },
 "nbformat": 4,
 "nbformat_minor": 5
}
