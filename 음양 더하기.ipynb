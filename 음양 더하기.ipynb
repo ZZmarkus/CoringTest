{
 "cells": [
  {
   "cell_type": "markdown",
   "metadata": {},
   "source": [
    "## 문제 설명\n",
    "어떤 정수들이 있습니다. 이 정수들의 절댓값을 차례대로 담은 정수 배열 absolutes와 이 정수들의 부호를 차례대로 담은 불리언 배열 signs가 매개변수로 주어집니다. 실제 정수들의 합을 구하여 return 하도록 solution 함수를 완성해주세요.\n",
    "\n",
    "- 제한사항\n",
    "absolutes의 길이는 1 이상 1,000 이하입니다.\n",
    "absolutes의 모든 수는 각각 1 이상 1,000 이하입니다.\n",
    "signs의 길이는 absolutes의 길이와 같습니다.\n",
    "signs[i] 가 참이면 absolutes[i] 의 실제 정수가 양수임을, 그렇지 않으면 음수임을 의미합니다.\n",
    "\n",
    "- 입출력 예\n",
    "\n",
    "|absolutes|signs|result|\n",
    "|:---|:---|:---|\n",
    "|[4,7,12]|[true,false,true]|9|\n",
    "|[1,2,3]|[false,false,true]|0|\n",
    "\n",
    "\n"
   ]
  },
  {
   "cell_type": "code",
   "execution_count": 23,
   "metadata": {},
   "outputs": [],
   "source": [
    "import numpy as np\n",
    "ab = [4,7,12]\n",
    "ab2 = [1,2,3]\n",
    "signs1 = [True, False, True]\n",
    "signs2 = [False, False, True]"
   ]
  },
  {
   "cell_type": "code",
   "execution_count": 41,
   "metadata": {},
   "outputs": [],
   "source": [
    "import numpy as np\n",
    "def solution(absolutes, signs):\n",
    "    sign = []\n",
    "    for sg in signs:\n",
    "        if sg == False:\n",
    "            sign.append(-1)\n",
    "        else:\n",
    "            sign.append(1)\n",
    "    \n",
    "    absolutes2 = np.array(absolutes)\n",
    "    sign2 = np.array(sign)\n",
    "    print(absolutes2)\n",
    "    print(sign2)\n",
    "    answer = absolutes2 * sign2\n",
    "    print(answer)\n",
    "    \n",
    "    return int(sum(answer))\n"
   ]
  },
  {
   "cell_type": "code",
   "execution_count": 42,
   "metadata": {},
   "outputs": [
    {
     "name": "stdout",
     "output_type": "stream",
     "text": [
      "[1 2 3]\n",
      "[-1 -1  1]\n",
      "[-1 -2  3]\n"
     ]
    },
    {
     "data": {
      "text/plain": [
       "0"
      ]
     },
     "execution_count": 42,
     "metadata": {},
     "output_type": "execute_result"
    }
   ],
   "source": [
    "solution(ab2, signs2)"
   ]
  },
  {
   "cell_type": "markdown",
   "metadata": {},
   "source": [
    "## - 인상깊었던 답"
   ]
  },
  {
   "cell_type": "code",
   "execution_count": 43,
   "metadata": {},
   "outputs": [],
   "source": [
    "def solution(absolutes, signs):\n",
    "\n",
    "    return sum(ab if sg else -ab for ab, sg in zip(absolutes, signs))"
   ]
  },
  {
   "cell_type": "code",
   "execution_count": 46,
   "metadata": {},
   "outputs": [
    {
     "name": "stdout",
     "output_type": "stream",
     "text": [
      "6\n"
     ]
    }
   ],
   "source": [
    "ab = [1,2,3]\n",
    "\n",
    "\n",
    "\n",
    "print(sum(ab2 for ab2 in ab))"
   ]
  },
  {
   "cell_type": "code",
   "execution_count": null,
   "metadata": {},
   "outputs": [],
   "source": []
  }
 ],
 "metadata": {
  "kernelspec": {
   "display_name": "Python 3",
   "language": "python",
   "name": "python3"
  },
  "language_info": {
   "codemirror_mode": {
    "name": "ipython",
    "version": 3
   },
   "file_extension": ".py",
   "mimetype": "text/x-python",
   "name": "python",
   "nbconvert_exporter": "python",
   "pygments_lexer": "ipython3",
   "version": "3.8.5"
  }
 },
 "nbformat": 4,
 "nbformat_minor": 4
}
